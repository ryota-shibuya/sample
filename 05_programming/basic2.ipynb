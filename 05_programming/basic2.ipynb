{
 "cells": [
  {
   "cell_type": "code",
   "execution_count": 14,
   "id": "59810608",
   "metadata": {},
   "outputs": [
    {
     "ename": "IndentationError",
     "evalue": "unexpected indent (572953834.py, line 7)",
     "output_type": "error",
     "traceback": [
      "  \u001b[36mCell\u001b[39m\u001b[36m \u001b[39m\u001b[32mIn[14]\u001b[39m\u001b[32m, line 7\u001b[39m\n\u001b[31m    \u001b[39m\u001b[31mprint(\"もっとがんばりましょう\")\u001b[39m\n    ^\n\u001b[31mIndentationError\u001b[39m\u001b[31m:\u001b[39m unexpected indent\n"
     ]
    }
   ],
   "source": [
    "score = int(input(\"点数を入力してください: \"))\n",
    "\n",
    "if score >= 60:\n",
    "    print(\"合格です\")\n",
    "    print(\"おめでとうございます\")\n",
    "else:print(\"不合格です\")\n",
    "    print(\"もっとがんばりましょう\")\n",
    "\n",
    "print(\"処理を終了します\")"
   ]
  },
  {
   "cell_type": "code",
   "execution_count": 25,
   "id": "e791d4ca",
   "metadata": {},
   "outputs": [
    {
     "name": "stdout",
     "output_type": "stream",
     "text": [
      "あなたの点数は 13 です\n",
      "不合格です\n",
      "もう少し頑張りましょう\n",
      "処理を終了します\n"
     ]
    }
   ],
   "source": [
    "score = int(input(\"点数を入力してください: \"))\n",
    "\n",
    "if score >=60:\n",
    "    print(\"あなたの点数は\", score, \"です\")\n",
    "    print(\"合格です\")\n",
    "    print(\"おめでとうございます\")\n",
    "else:\n",
    "    print(\"あなたの点数は\", score, \"です\")\n",
    "    print(\"不合格です\")\n",
    "    print(\"もう少し頑張りましょう\")\n",
    "\n",
    "print(\"処理を終了します\")"
   ]
  },
  {
   "cell_type": "code",
   "execution_count": 33,
   "id": "8aedc878",
   "metadata": {},
   "outputs": [
    {
     "name": "stdout",
     "output_type": "stream",
     "text": [
      "あなたの点数は 98 です\n",
      "とても優秀です\n",
      "大変よくできました！\n",
      "処理を終了します\n"
     ]
    }
   ],
   "source": [
    "score = int(input(\"点数を入力してください: \"))\n",
    "\n",
    "if score >=90:\n",
    "    print(\"あなたの点数は\", score, \"です\")\n",
    "    print(\"とても優秀です\")\n",
    "    print(\"大変よくできました！\")\n",
    "elif score >=60:\n",
    "    print(\"あなたの点数は\", score, \"です\")\n",
    "    print(\"合格です\")\n",
    "    print(\"おめでとうございます\")\n",
    "else:\n",
    "    print(\"あなたの点数は\", score, \"です\")\n",
    "    print(\"不合格です\")\n",
    "    print(\"もう少しがんばりましょう\")\n",
    "\n",
    "print(\"処理を終了します\")\n"
   ]
  },
  {
   "cell_type": "code",
   "execution_count": 34,
   "id": "734ffecb",
   "metadata": {},
   "outputs": [
    {
     "ename": "NameError",
     "evalue": "name 'asdfghjkl' is not defined",
     "output_type": "error",
     "traceback": [
      "\u001b[31m---------------------------------------------------------------------------\u001b[39m",
      "\u001b[31mNameError\u001b[39m                                 Traceback (most recent call last)",
      "\u001b[36mCell\u001b[39m\u001b[36m \u001b[39m\u001b[32mIn[34]\u001b[39m\u001b[32m, line 1\u001b[39m\n\u001b[32m----> \u001b[39m\u001b[32m1\u001b[39m s = \u001b[43masdfghjkl\u001b[49m\n",
      "\u001b[31mNameError\u001b[39m: name 'asdfghjkl' is not defined"
     ]
    }
   ],
   "source": [
    "s = asdfghjkl"
   ]
  },
  {
   "cell_type": "code",
   "execution_count": 41,
   "id": "3df3c54f",
   "metadata": {},
   "outputs": [
    {
     "name": "stdout",
     "output_type": "stream",
     "text": [
      "asdfghj\n",
      "kl\n"
     ]
    }
   ],
   "source": [
    "s = \"asdfghjkl;\"\n",
    "print(s[0:7])\n",
    "print(s[7:9])"
   ]
  },
  {
   "cell_type": "code",
   "execution_count": 43,
   "id": "a011af81",
   "metadata": {},
   "outputs": [
    {
     "name": "stdout",
     "output_type": "stream",
     "text": [
      "「にんてんどううどんてんには回文です！\n"
     ]
    }
   ],
   "source": [
    "s = \"にんてんどううどんてんに\"\n",
    "if s == s[::-1]:\n",
    "    print(f\"「{s}は回文です！\")\n",
    "else:\n",
    "    print(f\"「{s}は回文です！\")"
   ]
  },
  {
   "cell_type": "code",
   "execution_count": 44,
   "id": "44c5044f",
   "metadata": {},
   "outputs": [
    {
     "name": "stdout",
     "output_type": "stream",
     "text": [
      "19\n"
     ]
    }
   ],
   "source": [
    "s = \"ae@:outgbn:aeo@ingv\"\n",
    "print(len(s))"
   ]
  },
  {
   "cell_type": "code",
   "execution_count": 45,
   "id": "5be2c099",
   "metadata": {},
   "outputs": [
    {
     "name": "stdout",
     "output_type": "stream",
     "text": [
      "[1, 2, 3, 4, 5] ['apple, banana, cherry'] [1, 'apple, 3.14, True'] []\n"
     ]
    }
   ],
   "source": [
    "numbers = [1, 2, 3, 4, 5]\n",
    "fruits = [\"apple, banana, cherry\"]\n",
    "mixed = [1, \"apple, 3.14, True\"]\n",
    "empty_list = []\n",
    "\n",
    "print(numbers, fruits, mixed, empty_list)"
   ]
  },
  {
   "cell_type": "code",
   "execution_count": 57,
   "id": "43a61d66",
   "metadata": {},
   "outputs": [
    {
     "name": "stdout",
     "output_type": "stream",
     "text": [
      "(0, 1, 2)\n",
      "(5, 3, 1)\n"
     ]
    }
   ],
   "source": [
    "numbers = (0, 1, 2, 3, 4, 5)\n",
    "print(numbers[:3]) #(1,2)\n",
    "print(numbers[::-2]) #(5, 4, 3, 2, 1)"
   ]
  },
  {
   "cell_type": "code",
   "execution_count": 94,
   "id": "3611839f",
   "metadata": {},
   "outputs": [
    {
     "name": "stdout",
     "output_type": "stream",
     "text": [
      "送料は350円です\n",
      "送料込税込価格は900円です\n",
      "550.0\n"
     ]
    }
   ],
   "source": [
    "# [A]:「税抜価格」をユーザーから取得し、数値に変換する。\n",
    "tax_excluded_price = int(input(\"税抜き価格を入力してください: \"))\n",
    "\n",
    "# [B]: 「税込価格」を計算する（消費税率は10％）\n",
    "tax_rate = 0.10\n",
    "tax_included_price = tax_excluded_price * (1 + tax_rate) \n",
    "\n",
    "# [C]、[D]：送料の計算（2000円以上かどうか判定して分岐する）\n",
    "if tax_included_price >=2000:\n",
    "    shipping_cost = 0\n",
    "    print(\"送料は無料です\")\n",
    "else:\n",
    "    shipping_cost = 350\n",
    "    print(f\"送料は{shipping_cost}円です\")\n",
    "\n",
    "# [E]:送料込税込価格を計算して、変数に代入する\n",
    "total_price = tax_included_price + shipping_cost\n",
    "\n",
    "# 「送料込税込価格」を少数を含めずに出力する\n",
    "print(f\"送料込税込価格は{total_price:.0f}円です\")\n",
    "print(tax_included_price)"
   ]
  }
 ],
 "metadata": {
  "kernelspec": {
   "display_name": ".venv",
   "language": "python",
   "name": "python3"
  },
  "language_info": {
   "codemirror_mode": {
    "name": "ipython",
    "version": 3
   },
   "file_extension": ".py",
   "mimetype": "text/x-python",
   "name": "python",
   "nbconvert_exporter": "python",
   "pygments_lexer": "ipython3",
   "version": "3.12.7"
  }
 },
 "nbformat": 4,
 "nbformat_minor": 5
}
